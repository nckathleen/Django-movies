{
 "cells": [
  {
   "cell_type": "markdown",
   "metadata": {},
   "source": [
    "## Notes w7d2 Django \n",
    "\n",
    "(Using Blabber project, working on personal user pages and ability to edit ratings.)\n",
    "(Movie project also used...)\n"
   ]
  },
  {
   "cell_type": "markdown",
   "metadata": {},
   "source": [
    "Start with views, going back and forth to template as well.  \n",
    "Not login required.\n"
   ]
  },
  {
   "cell_type": "code",
   "execution_count": null,
   "metadata": {
    "collapsed": false
   },
   "outputs": [],
   "source": [
    "'''views.py'''\n",
    "\n",
    "from django.     import something\n",
    "\n",
    "def profile_detail(request):\n",
    "    if profile_id:\n",
    "        profile - get_object_or_404(Profile, pk=profile_id)\n",
    "    elif profile_username:\n",
    "        profile = get_object_or_404(Profile, user__username=profile_username) \n",
    "        # Dunder looks at user object and \n",
    "        # finds the username associated with the object.\n",
    "    else:\n",
    "        raise Http404(\"You must specify a user\")\n",
    "    \n",
    "    return render(request, 'profiles/profile_detail.html', {'profile': profile})\n",
    "\n",
    "def show_oldest_user(request):\n",
    "    Profile.objects.filet(user_datejoined_lte=datetime(2015,1,1))\n",
    "    #  less than or equal to.  Can look through for two peices of info\n",
    "    \n",
    "\n",
    "#  To make favorite color as background: \n",
    "#      in *** profile_detail.html ***\n",
    "\n",
    "<style type='text/css'>\n",
    "# body {\n",
    "#     background-color: {{profile.favorite_color }};\n",
    "# }  # would be better as a div, not whole body\n",
    "<style>\n",
    "\n",
    "{% if user == profile.user %}\n",
    "<p><a href=\"{% url \"edit_profile %}\">Edit profile</a></p>\n",
    "{% endit %}\n",
    "# the below causes favorite color to print out on profile, not be a background\n",
    "<p><b> Favorite_color:</b><span style=\"color: {{ profile.favorite_color }};\">{}"
   ]
  },
  {
   "cell_type": "code",
   "execution_count": null,
   "metadata": {
    "collapsed": false
   },
   "outputs": [],
   "source": [
    "'''User.html'''\n",
    "\n",
    "{% extends 'base.html' %}\n",
    "{% block content %}\n",
    "\n",
    "<h2>{{profile.user.username }}</h2>  #from contrib.auth.user ...\n",
    "{% endblock %}"
   ]
  },
  {
   "cell_type": "code",
   "execution_count": null,
   "metadata": {
    "collapsed": false
   },
   "outputs": [],
   "source": [
    "'''urls.py'''\n",
    "\n",
    "urlpatterns = [\n",
    "    url(r'^(?P<profile_id>\\d+)$', views.profile_detail, name='profile_detail')  #9:47am in video\n",
    "    url(r'^(?P<profile_username>[\\w\\@\\+\\.\\-]+)', views.profile_detail, name='profile_detail_username')\n",
    "    \n",
    "]"
   ]
  },
  {
   "cell_type": "markdown",
   "metadata": {},
   "source": [
    "Creating relationships on django to speed up queries and make them more efficient.\n",
    "Everything gets linked, apparently.  \n",
    "Video time = 10:56am"
   ]
  },
  {
   "cell_type": "markdown",
   "metadata": {},
   "source": [
    "statuses = statuses.select_related('user__username')\n",
    "- Brings all info multiple times, duplicate queries happen here.\n",
    "\n",
    "OR\n",
    "\n",
    "statuses = statuses.prefetch_related('user')\n",
    "- More queries, here, but often faster.\n",
    "\n",
    "THESE TWO CAN BE FASTER TOGETHER THAN THEY ARE SEPARATELY."
   ]
  },
  {
   "cell_type": "markdown",
   "metadata": {},
   "source": [
    "Postgres  (postgresql)\n",
    "\n",
    "db server/manager  like mySQL (more finicky, esp with large dbs)\n",
    "\n",
    "\n"
   ]
  },
  {
   "cell_type": "code",
   "execution_count": null,
   "metadata": {
    "collapsed": true
   },
   "outputs": [],
   "source": []
  }
 ],
 "metadata": {
  "kernelspec": {
   "display_name": "Python 3",
   "language": "python",
   "name": "python3"
  },
  "language_info": {
   "codemirror_mode": {
    "name": "ipython",
    "version": 3
   },
   "file_extension": ".py",
   "mimetype": "text/x-python",
   "name": "python",
   "nbconvert_exporter": "python",
   "pygments_lexer": "ipython3",
   "version": "3.4.3"
  }
 },
 "nbformat": 4,
 "nbformat_minor": 0
}
